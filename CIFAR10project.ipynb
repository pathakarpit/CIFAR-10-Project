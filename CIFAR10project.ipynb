{
  "nbformat": 4,
  "nbformat_minor": 0,
  "metadata": {
    "colab": {
      "name": "CIFAR10project.ipynb",
      "provenance": []
    },
    "kernelspec": {
      "name": "python3",
      "display_name": "Python 3"
    },
    "language_info": {
      "name": "python"
    }
  },
  "cells": [
    {
      "cell_type": "markdown",
      "metadata": {
        "id": "VJfUneENn2dn"
      },
      "source": [
        "Importing the dataset and libraries"
      ]
    },
    {
      "cell_type": "code",
      "metadata": {
        "id": "vfatikQhoBA9"
      },
      "source": [
        "import tensorflow as tf\n",
        "import matplotlib.pyplot as plt\n",
        "import numpy as np\n",
        "from sklearn.metrics import confusion_matrix, classification_report"
      ],
      "execution_count": 42,
      "outputs": []
    },
    {
      "cell_type": "code",
      "metadata": {
        "id": "nfg3sqaJP38Z"
      },
      "source": [
        "(X_train, y_train), (X_test, y_test) = tf.keras.datasets.cifar10.load_data()"
      ],
      "execution_count": 43,
      "outputs": []
    },
    {
      "cell_type": "code",
      "metadata": {
        "id": "ZgrFyh10ux6_"
      },
      "source": [
        "classes = ['airplane','automobile','bird','cat','deer','dog','frog','horse','ship','truck']"
      ],
      "execution_count": 33,
      "outputs": []
    },
    {
      "cell_type": "code",
      "metadata": {
        "id": "g7Dsoo3ORuJC"
      },
      "source": [
        "def print_img(X,y,index):\n",
        "  z=plt\n",
        "  z.imshow(X[index])\n",
        "  z.xlabel(classes[y[index]])\n",
        "  z=0"
      ],
      "execution_count": 30,
      "outputs": []
    },
    {
      "cell_type": "code",
      "metadata": {
        "id": "wInjJU3BTZlf"
      },
      "source": [
        "#reshaping the y_train\n",
        "y_train = y_train.reshape(-1,)"
      ],
      "execution_count": 23,
      "outputs": []
    },
    {
      "cell_type": "code",
      "metadata": {
        "id": "9zMeLHmpU8_h"
      },
      "source": [
        "#normalizing the data\n",
        "X_train = X_train/255\n",
        "X_test = X_test/255"
      ],
      "execution_count": 34,
      "outputs": []
    },
    {
      "cell_type": "code",
      "metadata": {
        "id": "bAaF-1uSVAMK"
      },
      "source": [
        "######## Firtst neural network ##########\n",
        "NetA = tf.keras.models.Sequential()\n",
        "\n",
        "NetA.add(tf.keras.layers.Flatten(input_shape=(32,32,3)))\n",
        "NetA.add(tf.keras.layers.Dense(10, activation = 'sigmoid'))\n",
        "\n",
        "NetA.compile(optimizer='SGD', loss='sparse_categorical_crossentropy',metrics=['accuracy'])\n",
        "\n",
        "NetA.fit(X_train, y_train, epochs = 50)"
      ],
      "execution_count": null,
      "outputs": []
    },
    {
      "cell_type": "code",
      "metadata": {
        "colab": {
          "base_uri": "https://localhost:8080/"
        },
        "id": "i4JCRQCHhtCJ",
        "outputId": "3dcb7a39-b22c-457f-c15f-e369a13e7477"
      },
      "source": [
        "#testing the first nn\n",
        "y_pred = NetA.predict(X_test)\n",
        "y_pred_classes = [np.argmax(element) for element in y_pred]\n",
        "print('Classification Report:: \\n', classification_report(y_test, y_pred_classes))"
      ],
      "execution_count": 54,
      "outputs": [
        {
          "output_type": "stream",
          "text": [
            "Classification Report:: \n",
            "               precision    recall  f1-score   support\n",
            "\n",
            "           0       0.11      0.99      0.20      1000\n",
            "           1       0.34      0.08      0.13      1000\n",
            "           2       0.14      0.13      0.13      1000\n",
            "           3       0.08      0.00      0.01      1000\n",
            "           4       0.08      0.00      0.00      1000\n",
            "           5       0.08      0.00      0.00      1000\n",
            "           6       0.00      0.00      0.00      1000\n",
            "           7       0.00      0.00      0.00      1000\n",
            "           8       0.00      0.00      0.00      1000\n",
            "           9       0.00      0.00      0.00      1000\n",
            "\n",
            "    accuracy                           0.12     10000\n",
            "   macro avg       0.08      0.12      0.05     10000\n",
            "weighted avg       0.08      0.12      0.05     10000\n",
            "\n"
          ],
          "name": "stdout"
        },
        {
          "output_type": "stream",
          "text": [
            "/usr/local/lib/python3.7/dist-packages/sklearn/metrics/_classification.py:1272: UndefinedMetricWarning: Precision and F-score are ill-defined and being set to 0.0 in labels with no predicted samples. Use `zero_division` parameter to control this behavior.\n",
            "  _warn_prf(average, modifier, msg_start, len(result))\n"
          ],
          "name": "stderr"
        }
      ]
    },
    {
      "cell_type": "code",
      "metadata": {
        "id": "tKFesrNNacYx"
      },
      "source": [
        "######## Second neural network ##########\n",
        "NetB = tf.keras.models.Sequential()\n",
        "\n",
        "NetB.add(tf.keras.layers.Flatten(input_shape=(32,32,3)))\n",
        "\n",
        "NetB.add(tf.keras.layers.Dense(300, activation = 'relu'))\n",
        "\n",
        "NetB.add(tf.keras.layers.Dense(10, activation = 'sigmoid'))\n",
        "\n",
        "NetB.compile(optimizer='SGD', loss='sparse_categorical_crossentropy',metrics=['accuracy'])\n",
        "\n",
        "NetB.add(tf.keras.layers.Flatten(input_shape=(32,32,3)))\n",
        "\n",
        "NetB.fit(X_train, y_train, epochs = 50)"
      ],
      "execution_count": null,
      "outputs": []
    },
    {
      "cell_type": "code",
      "metadata": {
        "colab": {
          "base_uri": "https://localhost:8080/"
        },
        "id": "7Yx6B-negVSx",
        "outputId": "b909fedb-76ff-48e2-b6cb-ba66f20e8bda"
      },
      "source": [
        "#testing the second nn\n",
        "y_pred = NetB.predict(X_test)\n",
        "y_pred_classes = [np.argmax(element) for element in y_pred]\n",
        "print('Classification Report:: \\n', classification_report(y_test, y_pred_classes))"
      ],
      "execution_count": 47,
      "outputs": [
        {
          "output_type": "stream",
          "text": [
            "Classification Report:: \n",
            "               precision    recall  f1-score   support\n",
            "\n",
            "           0       0.10      0.98      0.19      1000\n",
            "           1       0.84      0.11      0.19      1000\n",
            "           2       0.50      0.00      0.01      1000\n",
            "           3       0.57      0.00      0.01      1000\n",
            "           4       0.00      0.00      0.00      1000\n",
            "           5       0.62      0.01      0.01      1000\n",
            "           6       0.00      0.00      0.00      1000\n",
            "           7       0.89      0.06      0.11      1000\n",
            "           8       0.85      0.15      0.25      1000\n",
            "           9       0.69      0.10      0.18      1000\n",
            "\n",
            "    accuracy                           0.14     10000\n",
            "   macro avg       0.51      0.14      0.09     10000\n",
            "weighted avg       0.51      0.14      0.09     10000\n",
            "\n"
          ],
          "name": "stdout"
        },
        {
          "output_type": "stream",
          "text": [
            "/usr/local/lib/python3.7/dist-packages/sklearn/metrics/_classification.py:1272: UndefinedMetricWarning: Precision and F-score are ill-defined and being set to 0.0 in labels with no predicted samples. Use `zero_division` parameter to control this behavior.\n",
            "  _warn_prf(average, modifier, msg_start, len(result))\n"
          ],
          "name": "stderr"
        }
      ]
    },
    {
      "cell_type": "code",
      "metadata": {
        "id": "fQnGbd_xd9kz"
      },
      "source": [
        "######## Third neural network ##########\n",
        "NetC = tf.keras.models.Sequential()\n",
        "\n",
        "#convolution\n",
        "NetC.add(tf.keras.layers.Conv2D(filters = 25, kernel_size=5, activation = 'relu', input_shape=[32,32,3]))\n",
        "\n",
        "#pooling\n",
        "NetC.add(tf.keras.layers.MaxPool2D(pool_size=2, strides=2))\n",
        "\n",
        "#repeating\n",
        "NetC.add(tf.keras.layers.Conv2D(filters = 25, kernel_size=5, activation = 'relu'))\n",
        "NetC.add(tf.keras.layers.MaxPool2D(pool_size=2, strides=2))\n",
        "\n",
        "#flattening\n",
        "NetC.add(tf.keras.layers.Flatten())\n",
        "\n",
        "#full connection\n",
        "NetC.add(tf.keras.layers.Dense(units = 128, activation = 'relu'))\n",
        "\n",
        "#output layer\n",
        "NetC.add(tf.keras.layers.Dense(units = 10, activation = 'softmax'))\n",
        "\n",
        "#compiling the cnn\n",
        "NetC.compile(optimizer = 'adam', loss = 'sparse_categorical_crossentropy', metrics=['accuracy'])\n",
        "\n",
        "NetC.fit(X_train, y_train, epochs = 50)"
      ],
      "execution_count": null,
      "outputs": []
    },
    {
      "cell_type": "code",
      "metadata": {
        "colab": {
          "base_uri": "https://localhost:8080/"
        },
        "id": "IHPnT0Ojl8G3",
        "outputId": "28aeeb30-f2e6-4d26-ba4f-ea3628cc09df"
      },
      "source": [
        "#testing the second nn\n",
        "y_pred = NetB.predict(X_test)\n",
        "y_pred_classes = [np.argmax(element) for element in y_pred]\n",
        "print('Classification Report:: \\n', classification_report(y_test, y_pred_classes))"
      ],
      "execution_count": 53,
      "outputs": [
        {
          "output_type": "stream",
          "text": [
            "Classification Report:: \n",
            "               precision    recall  f1-score   support\n",
            "\n",
            "           0       0.10      0.98      0.19      1000\n",
            "           1       0.84      0.11      0.19      1000\n",
            "           2       0.50      0.00      0.01      1000\n",
            "           3       0.57      0.00      0.01      1000\n",
            "           4       0.00      0.00      0.00      1000\n",
            "           5       0.62      0.01      0.01      1000\n",
            "           6       0.00      0.00      0.00      1000\n",
            "           7       0.89      0.06      0.11      1000\n",
            "           8       0.85      0.15      0.25      1000\n",
            "           9       0.69      0.10      0.18      1000\n",
            "\n",
            "    accuracy                           0.14     10000\n",
            "   macro avg       0.51      0.14      0.09     10000\n",
            "weighted avg       0.51      0.14      0.09     10000\n",
            "\n"
          ],
          "name": "stdout"
        },
        {
          "output_type": "stream",
          "text": [
            "/usr/local/lib/python3.7/dist-packages/sklearn/metrics/_classification.py:1272: UndefinedMetricWarning: Precision and F-score are ill-defined and being set to 0.0 in labels with no predicted samples. Use `zero_division` parameter to control this behavior.\n",
            "  _warn_prf(average, modifier, msg_start, len(result))\n"
          ],
          "name": "stderr"
        }
      ]
    }
  ]
}